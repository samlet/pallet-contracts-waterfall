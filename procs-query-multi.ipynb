{
 "cells": [
  {
   "cell_type": "code",
   "execution_count": 1,
   "metadata": {
    "ExecuteTime": {
     "end_time": "2020-08-28T21:13:58.725000Z",
     "start_time": "2020-08-28T21:13:58.722Z"
    }
   },
   "outputs": [],
   "source": [
    "// Import the API, Keyring and some utility functions\n",
    "const { ApiPromise } = require('@polkadot/api');\n",
    "const { Keyring } = require('@polkadot/keyring');\n",
    "\n",
    "const BOB = '5FHneW46xGXgs5mUiveU4sbTyGBzmstUspZC92UhjJM694ty';\n",
    "\n",
    "// Instantiate the API\n",
    "const api = await ApiPromise.create();\n",
    "\n",
    "// Constuct the keying after the API (crypto has an async init)\n",
    "const keyring = new Keyring({ type: 'sr25519' });\n",
    "\n",
    "// Add Alice to our keyring with a hard-deived path (empty phrase, so uses dev)\n",
    "const alice = keyring.addFromUri('//Alice');"
   ]
  },
  {
   "cell_type": "code",
   "execution_count": 2,
   "metadata": {
    "ExecuteTime": {
     "end_time": "2020-08-28T21:14:14.994000Z",
     "start_time": "2020-08-28T21:14:14.991Z"
    }
   },
   "outputs": [
    {
     "name": "stdout",
     "output_type": "stream",
     "text": [
      "free balance is 999998900000000012345 with 1100000000000000 reserved and a nonce of 0\n"
     ]
    }
   ],
   "source": [
    "const ADDR = '5FHneW46xGXgs5mUiveU4sbTyGBzmstUspZC92UhjJM694ty';\n",
    "// Subscribe to balance changes for our account\n",
    "const unsub = await api.query.system.account(ADDR, ({ nonce, data: balance }) => {\n",
    "  console.log(`free balance is ${balance.free} with ${balance.reserved} reserved and a nonce of ${nonce}`);\n",
    "});"
   ]
  },
  {
   "cell_type": "code",
   "execution_count": 3,
   "metadata": {
    "ExecuteTime": {
     "end_time": "2020-08-28T21:14:17.380000Z",
     "start_time": "2020-08-28T21:14:17.378Z"
    }
   },
   "outputs": [],
   "source": [
    "unsub() // 停止订阅并清除所有基础RPC连接"
   ]
  },
  {
   "cell_type": "code",
   "execution_count": 6,
   "metadata": {
    "ExecuteTime": {
     "end_time": "2020-08-28T21:02:23.260000Z",
     "start_time": "2020-08-28T21:02:23.257Z"
    }
   },
   "outputs": [
    {
     "name": "stdout",
     "output_type": "stream",
     "text": [
      "The balances are 999998900000000012345 and 999998895739040142956\n"
     ]
    }
   ],
   "source": [
    "// 通过单个RPC调用来跟踪许多状态条目，而不是为每个单个项目进行调用\n",
    "// 一次检索多个帐户的余额\n",
    "const ADDR1='5FHneW46xGXgs5mUiveU4sbTyGBzmstUspZC92UhjJM694ty';\n",
    "const ADDR2='5GrwvaEF5zXb26Fz9rcQpDWS57CtERHpNehXCPcNoHGKutQY'; // alice\n",
    "// Subscribe to balance changes for 2 accounts, ADDR1 & ADDR2 (already defined)\n",
    "const unsub = await api.query.system.account.multi([ADDR1, ADDR2], (balances) => {\n",
    "  const [{ data: balance1 }, { data: balance2 }] = balances;\n",
    "\n",
    "  console.log(`The balances are ${balance1.free} and ${balance2.free}`);\n",
    "});"
   ]
  },
  {
   "cell_type": "code",
   "execution_count": 7,
   "metadata": {
    "ExecuteTime": {
     "end_time": "2020-08-28T21:02:32.470000Z",
     "start_time": "2020-08-28T21:02:32.468Z"
    }
   },
   "outputs": [],
   "source": [
    "unsub() "
   ]
  },
  {
   "cell_type": "code",
   "execution_count": 8,
   "metadata": {
    "ExecuteTime": {
     "end_time": "2020-08-28T21:03:05.557000Z",
     "start_time": "2020-08-28T21:03:05.555Z"
    }
   },
   "outputs": [
    {
     "name": "stderr",
     "output_type": "stream",
     "text": [
      "TypeError: exports.api.query.session.validators.keys is not a function\n",
      "    at evalmachine.<anonymous>:4:66\n",
      "    at evalmachine.<anonymous>:8:3\n",
      "    at sigintHandlersWrap (vm.js:288:15)\n",
      "    at Script.runInThisContext (vm.js:120:14)\n",
      "    at Object.runInThisContext (vm.js:329:38)\n",
      "    at Object.execute (/Users/xiaofeiwu/.nvm/versions/node/v10.17.0/lib/node_modules/tslab/dist/executor.js:162:38)\n",
      "    at JupyterHandlerImpl.handleExecuteImpl (/Users/xiaofeiwu/.nvm/versions/node/v10.17.0/lib/node_modules/tslab/dist/jupyter.js:219:38)\n",
      "    at count.execQueue.add (/Users/xiaofeiwu/.nvm/versions/node/v10.17.0/lib/node_modules/tslab/dist/jupyter.js:177:57)\n"
     ]
    }
   ],
   "source": [
    "// Retrieve a snapshot of the validators\n",
    "const validatorKeys = await api.query.session.validators.keys();\n",
    "validatorKeys"
   ]
  },
  {
   "cell_type": "markdown",
   "metadata": {},
   "source": [
    "### 多查询，不同类型\n",
    "前面的.multi示例假定我们对相同类型进行查询，即检索了多个帐户的余额。但是，还需要检索各种不同的类型，例如，除了特定帐户的现时和余额外，我们还希望跟踪区块时间戳。为此，该api具有特定的api.queryMulti接口，可用于执行此查询"
   ]
  },
  {
   "cell_type": "code",
   "execution_count": 9,
   "metadata": {
    "ExecuteTime": {
     "end_time": "2020-08-28T21:04:00.713000Z",
     "start_time": "2020-08-28T21:04:00.712Z"
    }
   },
   "outputs": [
    {
     "name": "stdout",
     "output_type": "stream",
     "text": [
      "1598648640003: balance of 999998900000000012345 and a nonce of 0\n",
      "1598648643004: balance of 999998900000000012345 and a nonce of 0\n",
      "1598648646002: balance of 999998900000000012345 and a nonce of 0\n",
      "1598648649000: balance of 999998900000000012345 and a nonce of 0\n"
     ]
    }
   ],
   "source": [
    "// Subscribe to the timestamp, our index and balance\n",
    "const unsub = await api.queryMulti([\n",
    "  api.query.timestamp.now,\n",
    "  [api.query.system.account, ADDR]\n",
    "], ([now, { nonce, data: balance }]) => {\n",
    "  console.log(`${now}: balance of ${balance.free} and a nonce of ${nonce}`);\n",
    "});"
   ]
  },
  {
   "cell_type": "code",
   "execution_count": 10,
   "metadata": {
    "ExecuteTime": {
     "end_time": "2020-08-28T21:04:09.195000Z",
     "start_time": "2020-08-28T21:04:09.192Z"
    }
   },
   "outputs": [],
   "source": [
    "unsub()"
   ]
  },
  {
   "cell_type": "code",
   "execution_count": 11,
   "metadata": {
    "ExecuteTime": {
     "end_time": "2020-08-28T21:05:43.996000Z",
     "start_time": "2020-08-28T21:05:43.994Z"
    }
   },
   "outputs": [
    {
     "name": "stdout",
     "output_type": "stream",
     "text": [
      "The delta was 0\n"
     ]
    }
   ],
   "source": [
    "// 检索当前余额以及特定帐户上一个区块的余额\n",
    "// Retrieve the current block header\n",
    "const lastHdr = await api.rpc.chain.getHeader();\n",
    "\n",
    "// Retrieve the balance at both the current and the parent hashes\n",
    "const [{ data: balanceNow }, { data: balancePrev }] = await Promise.all([\n",
    "  api.query.system.account.at(lastHdr.hash, ADDR),\n",
    "  api.query.system.account.at(lastHdr.parentHash, ADDR)\n",
    "]);\n",
    "\n",
    "// Display the difference\n",
    "console.log(`The delta was ${balanceNow.free.sub(balancePrev.free)}`);"
   ]
  },
  {
   "cell_type": "code",
   "execution_count": 12,
   "metadata": {
    "ExecuteTime": {
     "end_time": "2020-08-28T21:06:51.977000Z",
     "start_time": "2020-08-28T21:06:51.975Z"
    }
   },
   "outputs": [
    {
     "name": "stdout",
     "output_type": "stream",
     "text": [
      "<BN: 17436e3e4b8>\n"
     ]
    }
   ],
   "source": [
    "// .at查询都是单发的，即没有订阅选项，因为前一个块的状态应该是静态的\n",
    "// Retrieve the timestamp for the previous block\n",
    "const momentPrev = await api.query.timestamp.now.at(lastHdr.parentHash);\n",
    "momentPrev"
   ]
  },
  {
   "cell_type": "code",
   "execution_count": 5,
   "metadata": {
    "ExecuteTime": {
     "end_time": "2020-08-28T21:14:53.078000Z",
     "start_time": "2020-08-28T21:14:53.076Z"
    }
   },
   "outputs": [
    {
     "name": "stderr",
     "output_type": "stream",
     "text": [
      "\u001b[31m2020-08-29 05:15:56\u001b[39m \u001b[31m         API-WS:\u001b[39m disconnected from ws://127.0.0.1:9944 code: '1006' reason: 'Connection dropped by remote peer.'\n",
      "\u001b[31m2020-08-29 05:15:57\u001b[39m \u001b[31m         API-WS:\u001b[39m disconnected from ws://127.0.0.1:9944 code: '1006' reason: 'connection failed'\n",
      "\u001b[31m2020-08-29 05:15:58\u001b[39m \u001b[31m         API-WS:\u001b[39m disconnected from ws://127.0.0.1:9944 code: '1006' reason: 'connection failed'\n",
      "\u001b[31m2020-08-29 05:15:59\u001b[39m \u001b[31m         API-WS:\u001b[39m disconnected from ws://127.0.0.1:9944 code: '1006' reason: 'connection failed'\n",
      "\u001b[31m2020-08-29 05:16:00\u001b[39m \u001b[31m         API-WS:\u001b[39m disconnected from ws://127.0.0.1:9944 code: '1006' reason: 'connection failed'\n",
      "\u001b[31m2020-08-29 05:16:01\u001b[39m \u001b[31m         API-WS:\u001b[39m disconnected from ws://127.0.0.1:9944 code: '1006' reason: 'connection failed'\n",
      "\u001b[31m2020-08-29 05:16:02\u001b[39m \u001b[31m         API-WS:\u001b[39m disconnected from ws://127.0.0.1:9944 code: '1006' reason: 'connection failed'\n",
      "\u001b[31m2020-08-29 05:16:03\u001b[39m \u001b[31m         API-WS:\u001b[39m disconnected from ws://127.0.0.1:9944 code: '1006' reason: 'connection failed'\n",
      "\u001b[31m2020-08-29 05:16:04\u001b[39m \u001b[31m         API-WS:\u001b[39m disconnected from ws://127.0.0.1:9944 code: '1006' reason: 'connection failed'\n",
      "\u001b[31m2020-08-29 05:16:05\u001b[39m \u001b[31m         API-WS:\u001b[39m disconnected from ws://127.0.0.1:9944 code: '1006' reason: 'connection failed'\n",
      "\u001b[31m2020-08-29 05:16:06\u001b[39m \u001b[31m         API-WS:\u001b[39m disconnected from ws://127.0.0.1:9944 code: '1006' reason: 'connection failed'\n",
      "\u001b[31m2020-08-29 05:16:07\u001b[39m \u001b[31m         API-WS:\u001b[39m disconnected from ws://127.0.0.1:9944 code: '1006' reason: 'connection failed'\n"
     ]
    }
   ],
   "source": [
    "// 查询从特定历史块开始直到指定块或最新块的状态。\n",
    "// 这是通过.range([from, to?], <...opt params>): [Hash, Type][]查询完成的\n",
    "// Retrieve the current block header\n",
    "const lastHdr = await api.rpc.chain.getHeader();\n",
    "const startHdr = await api.rpc.chain.getBlockHash(lastHdr.number.unwrap().subn(500));\n",
    "\n",
    "// retrieve the range of changes\n",
    "// ? Error: Account is a Map and requires one argument\n",
    "// const changes = await api.query.system.account.range([startHdr]);\n",
    "\n",
    "// changes.forEach(([hash, value]) => {\n",
    "//   console.log(hash.toHex(), value.toHuman());\n",
    "// });"
   ]
  },
  {
   "cell_type": "code",
   "execution_count": null,
   "metadata": {},
   "outputs": [],
   "source": []
  }
 ],
 "metadata": {
  "kernelspec": {
   "display_name": "TypeScript",
   "language": "typescript",
   "name": "tslab"
  },
  "language_info": {
   "codemirror_mode": {
    "mode": "typescript",
    "name": "javascript",
    "typescript": true
   },
   "file_extension": ".ts",
   "mimetype": "text/typescript",
   "name": "typescript",
   "version": "3.7.2"
  },
  "varInspector": {
   "cols": {
    "lenName": 16,
    "lenType": 16,
    "lenVar": 40
   },
   "kernels_config": {
    "python": {
     "delete_cmd_postfix": "",
     "delete_cmd_prefix": "del ",
     "library": "var_list.py",
     "varRefreshCmd": "print(var_dic_list())"
    },
    "r": {
     "delete_cmd_postfix": ") ",
     "delete_cmd_prefix": "rm(",
     "library": "var_list.r",
     "varRefreshCmd": "cat(var_dic_list()) "
    }
   },
   "types_to_exclude": [
    "module",
    "function",
    "builtin_function_or_method",
    "instance",
    "_Feature"
   ],
   "window_display": false
  }
 },
 "nbformat": 4,
 "nbformat_minor": 4
}
