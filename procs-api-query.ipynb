{
 "cells": [
  {
   "cell_type": "code",
   "execution_count": 4,
   "metadata": {
    "ExecuteTime": {
     "end_time": "2020-08-28T20:47:21.397000Z",
     "start_time": "2020-08-28T20:47:21.396Z"
    }
   },
   "outputs": [
    {
     "name": "stderr",
     "output_type": "stream",
     "text": [
      "Unknown types found, no types for Releases\n"
     ]
    },
    {
     "name": "stdout",
     "output_type": "stream",
     "text": [
      "{ address: \u001b[36m[Getter]\u001b[39m,\n",
      "  isLocked: \u001b[36m[Getter]\u001b[39m,\n",
      "  meta: \u001b[36m[Getter]\u001b[39m,\n",
      "  publicKey: \u001b[36m[Getter]\u001b[39m,\n",
      "  type: \u001b[36m[Getter]\u001b[39m,\n",
      "  decodePkcs8: \u001b[36m[Function: decodePkcs8]\u001b[39m,\n",
      "  derive: \u001b[36m[Function: derive]\u001b[39m,\n",
      "  encodePkcs8: \u001b[36m[Function: encodePkcs8]\u001b[39m,\n",
      "  lock: \u001b[36m[Function: lock]\u001b[39m,\n",
      "  setMeta: \u001b[36m[Function: setMeta]\u001b[39m,\n",
      "  sign: \u001b[36m[Function: sign]\u001b[39m,\n",
      "  toJson: \u001b[36m[Function: toJson]\u001b[39m,\n",
      "  verify: \u001b[36m[Function: verify]\u001b[39m }\n"
     ]
    }
   ],
   "source": [
    "// Import the API, Keyring and some utility functions\n",
    "const { ApiPromise } = require('@polkadot/api');\n",
    "const { Keyring } = require('@polkadot/keyring');\n",
    "\n",
    "const BOB = '5FHneW46xGXgs5mUiveU4sbTyGBzmstUspZC92UhjJM694ty';\n",
    "\n",
    "// Instantiate the API\n",
    "const api = await ApiPromise.create();\n",
    "\n",
    "// Constuct the keying after the API (crypto has an async init)\n",
    "const keyring = new Keyring({ type: 'sr25519' });\n",
    "\n",
    "// Add Alice to our keyring with a hard-deived path (empty phrase, so uses dev)\n",
    "const alice = keyring.addFromUri('//Alice');\n",
    "alice"
   ]
  },
  {
   "cell_type": "code",
   "execution_count": 5,
   "metadata": {
    "ExecuteTime": {
     "end_time": "2020-08-28T20:47:43.255000Z",
     "start_time": "2020-08-28T20:47:43.253Z"
    }
   },
   "outputs": [
    {
     "name": "stdout",
     "output_type": "stream",
     "text": [
      "1598647662000: balance of 0 and a nonce of 0\n"
     ]
    }
   ],
   "source": [
    "// The actual address that we will use\n",
    "const ADDR = '5DTestUPts3kjeXSTMyerHihn1uwMfLj8vU8sqF7qYrFabHE';\n",
    "\n",
    "// Retrieve the last timestamp\n",
    "const now = await api.query.timestamp.now();\n",
    "\n",
    "// Retrieve the account balance & nonce via the system module\n",
    "const { nonce, data: balance } = await api.query.system.account(ADDR);\n",
    "\n",
    "console.log(`${now}: balance of ${balance.free} and a nonce of ${nonce}`);"
   ]
  },
  {
   "cell_type": "code",
   "execution_count": 6,
   "metadata": {
    "ExecuteTime": {
     "end_time": "2020-08-28T20:50:31.787000Z",
     "start_time": "2020-08-28T20:50:31.785Z"
    }
   },
   "outputs": [
    {
     "name": "stdout",
     "output_type": "stream",
     "text": [
      "<BN: 17436d605f4>\n"
     ]
    }
   ],
   "source": [
    "// Retrieve last block timestamp, account nonce & balances\n",
    "const [now, { nonce, data: balances }] = await Promise.all([\n",
    "  api.query.timestamp.now(),\n",
    "  api.query.system.account(ADDR)\n",
    "]);\n",
    "\n",
    "now"
   ]
  },
  {
   "cell_type": "markdown",
   "metadata": {},
   "source": [
    "### RPC查询\n",
    "RPC调用为往来于节点的数据传输提供了主干。这意味着所有API端点，例如api.query，api.tx或者api.derive只是包装RPC调用，由节点如预期提供的编码格式信息。"
   ]
  },
  {
   "cell_type": "code",
   "execution_count": 7,
   "metadata": {
    "ExecuteTime": {
     "end_time": "2020-08-28T20:52:25.228000Z",
     "start_time": "2020-08-28T20:52:25.224Z"
    }
   },
   "outputs": [
    {
     "name": "stdout",
     "output_type": "stream",
     "text": [
      "Development: last block #3044 has hash 0x429d7f06ba41403eb03238a9a019e3e894785a2eab58a7639a3a1e37aa9b17a0\n"
     ]
    }
   ],
   "source": [
    "// Retrieve the chain name\n",
    "const chain = await api.rpc.system.chain();\n",
    "\n",
    "// Retrieve the latest header\n",
    "const lastHeader = await api.rpc.chain.getHeader();\n",
    "\n",
    "// Log the information\n",
    "console.log(`${chain}: last block #${lastHeader.number} has hash ${lastHeader.hash}`);"
   ]
  },
  {
   "cell_type": "code",
   "execution_count": 8,
   "metadata": {
    "ExecuteTime": {
     "end_time": "2020-08-28T20:53:25.459000Z",
     "start_time": "2020-08-28T20:53:25.454Z"
    }
   },
   "outputs": [
    {
     "name": "stdout",
     "output_type": "stream",
     "text": [
      "Development: last block #3064 has hash 0xc0e58044e5bb6cedcdeeabbddf88aa0efd306adea7cf71003e146abc7d4b596e\n",
      "Development: last block #3065 has hash 0x19df6b62216766eab9c7570f4371cca82ed617362d729236c13a0b85cf13bc2c\n",
      "Development: last block #3066 has hash 0xc9981b0e16ba1f32b7ae7af6442d30cbb9e2ca4b06bab7175e5c4c6f536fb87c\n",
      "Development: last block #3067 has hash 0x5ba725df92dbbfb5b3e95a4e9c6b8c39c47aeee77e43ed098abde5a73b66851d\n",
      "Development: last block #3068 has hash 0x0f7b4713a1d56bfc9171a0b9e4d59016f36013cfeccefb00365da8a1cf5af382\n",
      "Development: last block #3069 has hash 0xa9e43d2c5244316c87b80de6c32660033c2591e0b5fec8f9eab0f6c695167c84\n",
      "Development: last block #3070 has hash 0xe3bdac110f8ce7e5f4b883ab121e71254724ab669576702007aad76089a92bc0\n",
      "Development: last block #3071 has hash 0x2665b1de808b4b7c5b82795fd4c49b08ffcc2e8026f2461fc83442ae049ef1b8\n",
      "Development: last block #3072 has hash 0x02f4a69599de51e7be0fec832f1329100ccc52617c236d22b432f153fe6524a8\n",
      "Development: last block #3073 has hash 0x19a9952489f75abf396c27a9a120464f8f7619053027e731098d7e8ef88f6dea\n"
     ]
    }
   ],
   "source": [
    "// 无论何时创建订阅，我们都希望自己清理并取消订阅，因此，假设我们只想记录前10个标头\n",
    "let count = 0;\n",
    "\n",
    "// Subscribe to the new headers\n",
    "const unsubHeads = await api.rpc.chain.subscribeNewHeads((lastHeader) => {\n",
    "  console.log(`${chain}: last block #${lastHeader.number} has hash ${lastHeader.hash}`);\n",
    "\n",
    "  if (++count === 10) {\n",
    "    unsubHeads();\n",
    "  }\n",
    "});"
   ]
  },
  {
   "cell_type": "code",
   "execution_count": 9,
   "metadata": {
    "ExecuteTime": {
     "end_time": "2020-08-28T20:54:31.800000Z",
     "start_time": "2020-08-28T20:54:31.798Z"
    }
   },
   "outputs": [
    {
     "name": "stdout",
     "output_type": "stream",
     "text": [
      "#3086 was authored by 5GNJqTPyNqANBkUVMN1LPPrxXnFouWXoe2wNSmmEoLctxiZY\n",
      "#3087 was authored by 5GNJqTPyNqANBkUVMN1LPPrxXnFouWXoe2wNSmmEoLctxiZY\n",
      "#3088 was authored by 5GNJqTPyNqANBkUVMN1LPPrxXnFouWXoe2wNSmmEoLctxiZY\n",
      "#3089 was authored by 5GNJqTPyNqANBkUVMN1LPPrxXnFouWXoe2wNSmmEoLctxiZY\n",
      "#3090 was authored by 5GNJqTPyNqANBkUVMN1LPPrxXnFouWXoe2wNSmmEoLctxiZY\n",
      "#3091 was authored by 5GNJqTPyNqANBkUVMN1LPPrxXnFouWXoe2wNSmmEoLctxiZY\n",
      "#3092 was authored by 5GNJqTPyNqANBkUVMN1LPPrxXnFouWXoe2wNSmmEoLctxiZY\n",
      "#3093 was authored by 5GNJqTPyNqANBkUVMN1LPPrxXnFouWXoe2wNSmmEoLctxiZY\n",
      "#3094 was authored by 5GNJqTPyNqANBkUVMN1LPPrxXnFouWXoe2wNSmmEoLctxiZY\n",
      "#3095 was authored by 5GNJqTPyNqANBkUVMN1LPPrxXnFouWXoe2wNSmmEoLctxiZY\n",
      "#3096 was authored by 5GNJqTPyNqANBkUVMN1LPPrxXnFouWXoe2wNSmmEoLctxiZY\n",
      "#3097 was authored by 5GNJqTPyNqANBkUVMN1LPPrxXnFouWXoe2wNSmmEoLctxiZY\n",
      "#3098 was authored by 5GNJqTPyNqANBkUVMN1LPPrxXnFouWXoe2wNSmmEoLctxiZY\n",
      "#3099 was authored by 5GNJqTPyNqANBkUVMN1LPPrxXnFouWXoe2wNSmmEoLctxiZY\n",
      "#3100 was authored by 5GNJqTPyNqANBkUVMN1LPPrxXnFouWXoe2wNSmmEoLctxiZY\n",
      "#3101 was authored by 5GNJqTPyNqANBkUVMN1LPPrxXnFouWXoe2wNSmmEoLctxiZY\n",
      "#3102 was authored by 5GNJqTPyNqANBkUVMN1LPPrxXnFouWXoe2wNSmmEoLctxiZY\n",
      "#3103 was authored by 5GNJqTPyNqANBkUVMN1LPPrxXnFouWXoe2wNSmmEoLctxiZY\n",
      "#3104 was authored by 5GNJqTPyNqANBkUVMN1LPPrxXnFouWXoe2wNSmmEoLctxiZY\n",
      "#3105 was authored by 5GNJqTPyNqANBkUVMN1LPPrxXnFouWXoe2wNSmmEoLctxiZY\n"
     ]
    }
   ],
   "source": [
    "const unsub = await api.derive.chain.subscribeNewHeads((lastHeader) => {\n",
    "  console.log(`#${lastHeader.number} was authored by ${lastHeader.author}`);\n",
    "});"
   ]
  },
  {
   "cell_type": "code",
   "execution_count": null,
   "metadata": {},
   "outputs": [],
   "source": [
    "unsub()"
   ]
  }
 ],
 "metadata": {
  "kernelspec": {
   "display_name": "TypeScript",
   "language": "typescript",
   "name": "tslab"
  },
  "language_info": {
   "codemirror_mode": {
    "mode": "typescript",
    "name": "javascript",
    "typescript": true
   },
   "file_extension": ".ts",
   "mimetype": "text/typescript",
   "name": "typescript",
   "version": "3.7.2"
  },
  "varInspector": {
   "cols": {
    "lenName": 16,
    "lenType": 16,
    "lenVar": 40
   },
   "kernels_config": {
    "python": {
     "delete_cmd_postfix": "",
     "delete_cmd_prefix": "del ",
     "library": "var_list.py",
     "varRefreshCmd": "print(var_dic_list())"
    },
    "r": {
     "delete_cmd_postfix": ") ",
     "delete_cmd_prefix": "rm(",
     "library": "var_list.r",
     "varRefreshCmd": "cat(var_dic_list()) "
    }
   },
   "types_to_exclude": [
    "module",
    "function",
    "builtin_function_or_method",
    "instance",
    "_Feature"
   ],
   "window_display": false
  }
 },
 "nbformat": 4,
 "nbformat_minor": 4
}
