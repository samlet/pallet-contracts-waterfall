{
 "cells": [
  {
   "cell_type": "code",
   "execution_count": 2,
   "metadata": {
    "ExecuteTime": {
     "end_time": "2020-08-28T18:23:39.417000Z",
     "start_time": "2020-08-28T18:23:39.416Z"
    }
   },
   "outputs": [
    {
     "name": "stderr",
     "output_type": "stream",
     "text": [
      "Unknown types found, no types for Releases\n"
     ]
    },
    {
     "name": "stdout",
     "output_type": "stream",
     "text": [
      "Transfer sent with hash 0x67457f5503bf81f7c501706f3dd57f7952b97b5376b500035ecd09e0384b3f8c\n"
     ]
    }
   ],
   "source": [
    "// Import the API, Keyring and some utility functions\n",
    "const { ApiPromise } = require('@polkadot/api');\n",
    "const { Keyring } = require('@polkadot/keyring');\n",
    "\n",
    "const BOB = '5FHneW46xGXgs5mUiveU4sbTyGBzmstUspZC92UhjJM694ty';\n",
    "\n",
    "async function main () {\n",
    "  // Instantiate the API\n",
    "  const api = await ApiPromise.create();\n",
    "\n",
    "  // Constuct the keying after the API (crypto has an async init)\n",
    "  const keyring = new Keyring({ type: 'sr25519' });\n",
    "\n",
    "  // Add Alice to our keyring with a hard-deived path (empty phrase, so uses dev)\n",
    "  const alice = keyring.addFromUri('//Alice');\n",
    "\n",
    "  // Create a extrinsic, transferring 12345 units to Bob\n",
    "  const transfer = api.tx.balances.transfer(BOB, 12345);\n",
    "\n",
    "  // Sign and send the transaction using our account\n",
    "  const hash = await transfer.signAndSend(alice);\n",
    "\n",
    "  console.log('Transfer sent with hash', hash.toHex());\n",
    "}\n",
    "await main()"
   ]
  },
  {
   "cell_type": "code",
   "execution_count": 3,
   "metadata": {
    "ExecuteTime": {
     "end_time": "2020-08-28T18:24:26.714000Z",
     "start_time": "2020-08-28T18:24:26.712Z"
    }
   },
   "outputs": [
    {
     "name": "stdout",
     "output_type": "stream",
     "text": [
      "Promise { \u001b[36m<pending>\u001b[39m }\n"
     ]
    },
    {
     "name": "stderr",
     "output_type": "stream",
     "text": [
      "Unknown types found, no types for Releases\n"
     ]
    },
    {
     "name": "stdout",
     "output_type": "stream",
     "text": [
      "\n",
      "Received 2 events:\n",
      "\tsystem:ExtrinsicSuccess:: (phase={\"ApplyExtrinsic\":0})\n",
      "\t\t[ An extrinsic completed successfully.]\n",
      "\t\t\tDispatchInfo: {\"weight\":158000000,\"class\":\"Mandatory\",\"paysFee\":\"Yes\"}\n",
      "\tsystem:ExtrinsicSuccess:: (phase={\"ApplyExtrinsic\":1})\n",
      "\t\t[ An extrinsic completed successfully.]\n",
      "\t\t\tDispatchInfo: {\"weight\":0,\"class\":\"Mandatory\",\"paysFee\":\"Yes\"}\n"
     ]
    }
   ],
   "source": [
    "// Import the API\n",
    "const { ApiPromise } = require('@polkadot/api');\n",
    "\n",
    "async function main () {\n",
    "  // Create our API with a default connection to the local node\n",
    "  const api = await ApiPromise.create();\n",
    "\n",
    "  // Subscribe to system events via storage\n",
    "  api.query.system.events((events) => {\n",
    "    console.log(`\\nReceived ${events.length} events:`);\n",
    "\n",
    "    // Loop through the Vec<EventRecord>\n",
    "    events.forEach((record) => {\n",
    "      // Extract the phase, event and the event types\n",
    "      const { event, phase } = record;\n",
    "      const types = event.typeDef;\n",
    "\n",
    "      // Show what we are busy with\n",
    "      console.log(`\\t${event.section}:${event.method}:: (phase=${phase.toString()})`);\n",
    "      console.log(`\\t\\t${event.meta.documentation.toString()}`);\n",
    "\n",
    "      // Loop through each of the parameters, displaying the type and data\n",
    "      event.data.forEach((data, index) => {\n",
    "        console.log(`\\t\\t\\t${types[index].type}: ${data.toString()}`);\n",
    "      });\n",
    "    });\n",
    "  });\n",
    "}\n",
    "\n",
    "main().catch((error) => {\n",
    "  console.error(error);\n",
    "//   process.exit(-1);\n",
    "});"
   ]
  },
  {
   "cell_type": "code",
   "execution_count": 1,
   "metadata": {
    "ExecuteTime": {
     "end_time": "2020-08-28T18:26:23.007000Z",
     "start_time": "2020-08-28T18:26:23.005Z"
    }
   },
   "outputs": [
    {
     "name": "stdout",
     "output_type": "stream",
     "text": [
      "Promise { \u001b[36m<pending>\u001b[39m }\n"
     ]
    },
    {
     "name": "stderr",
     "output_type": "stream",
     "text": [
      "Unknown types found, no types for Releases\n"
     ]
    },
    {
     "name": "stdout",
     "output_type": "stream",
     "text": [
      "Sending 10000 from 5GrwvaEF5zXb26Fz9rcQpDWS57CtERHpNehXCPcNoHGKutQY to 5Gc7YcykLx8W2R8yS6fzuHWPk3VvJg5adk8FrFEmugp5vnEG with nonce 2\n",
      "Transaction status: Ready\n",
      "Transaction status: InBlock\n",
      "Included at block hash 0x1bf3a356abef22f015fa217cd25d85ddee4e067e4a236dc1ec0ef7093605c5df\n",
      "Events:\n",
      "\t {\"ApplyExtrinsic\":2} : treasury.Deposit [1136255950151]\n",
      "\t {\"ApplyExtrinsic\":2} : system.ExtrinsicFailed [{\"Module\":{\"index\":6,\"error\":4}},{\"weight\":195000000,\"class\":\"Normal\",\"paysFee\":\"Yes\"}]\n",
      "Transaction status: Finalized\n",
      "Finalized block hash 0x1bf3a356abef22f015fa217cd25d85ddee4e067e4a236dc1ec0ef7093605c5df\n"
     ]
    }
   ],
   "source": [
    "/// Transaction with events\n",
    "\n",
    "// Import the API & Provider and some utility functions\n",
    "const { ApiPromise } = require('@polkadot/api');\n",
    "\n",
    "// Import the test keyring (already has dev keys for Alice, Bob, Charlie, Eve & Ferdie)\n",
    "const testKeyring = require('@polkadot/keyring/testing');\n",
    "\n",
    "// Utility function for random values\n",
    "const { randomAsU8a } = require('@polkadot/util-crypto');\n",
    "\n",
    "// Some constants we are using in this sample\n",
    "const ALICE = '5GrwvaEF5zXb26Fz9rcQpDWS57CtERHpNehXCPcNoHGKutQY';\n",
    "const AMOUNT = 10000;\n",
    "\n",
    "async function main () {\n",
    "  // Create the API and wait until ready\n",
    "  const api = await ApiPromise.create();\n",
    "\n",
    "  // Create an instance of our testing keyring\n",
    "  // If you're using ES6 module imports instead of require, just change this line to:\n",
    "  // const keyring = testKeyring();\n",
    "  const keyring = testKeyring.default();\n",
    "\n",
    "  // Get the nonce for the admin key\n",
    "  const { nonce } = await api.query.system.account(ALICE);\n",
    "\n",
    "  // Find the actual keypair in the keyring\n",
    "  const alicePair = keyring.getPair(ALICE);\n",
    "\n",
    "  // Create a new random recipient\n",
    "  const recipient = keyring.addFromSeed(randomAsU8a(32)).address;\n",
    "\n",
    "  console.log('Sending', AMOUNT, 'from', alicePair.address, 'to', recipient, 'with nonce', nonce.toString());\n",
    "\n",
    "  // Do the transfer and track the actual status\n",
    "  api.tx.balances\n",
    "    .transfer(recipient, AMOUNT)\n",
    "    .signAndSend(alicePair, { nonce }, ({ events = [], status }) => {\n",
    "      console.log('Transaction status:', status.type);\n",
    "\n",
    "      if (status.isInBlock) {\n",
    "        console.log('Included at block hash', status.asInBlock.toHex());\n",
    "        console.log('Events:');\n",
    "\n",
    "        events.forEach(({ event: { data, method, section }, phase }) => {\n",
    "          console.log('\\t', phase.toString(), `: ${section}.${method}`, data.toString());\n",
    "        });\n",
    "      } else if (status.isFinalized) {\n",
    "        console.log('Finalized block hash', status.asFinalized.toHex());\n",
    "\n",
    "        // process.exit(0);\n",
    "      }\n",
    "    });\n",
    "}\n",
    "\n",
    "main().catch(console.error);"
   ]
  }
 ],
 "metadata": {
  "kernelspec": {
   "display_name": "TypeScript",
   "language": "typescript",
   "name": "tslab"
  },
  "language_info": {
   "codemirror_mode": {
    "mode": "typescript",
    "name": "javascript",
    "typescript": true
   },
   "file_extension": ".ts",
   "mimetype": "text/typescript",
   "name": "typescript",
   "version": "3.7.2"
  },
  "varInspector": {
   "cols": {
    "lenName": 16,
    "lenType": 16,
    "lenVar": 40
   },
   "kernels_config": {
    "python": {
     "delete_cmd_postfix": "",
     "delete_cmd_prefix": "del ",
     "library": "var_list.py",
     "varRefreshCmd": "print(var_dic_list())"
    },
    "r": {
     "delete_cmd_postfix": ") ",
     "delete_cmd_prefix": "rm(",
     "library": "var_list.r",
     "varRefreshCmd": "cat(var_dic_list()) "
    }
   },
   "types_to_exclude": [
    "module",
    "function",
    "builtin_function_or_method",
    "instance",
    "_Feature"
   ],
   "window_display": false
  }
 },
 "nbformat": 4,
 "nbformat_minor": 4
}
