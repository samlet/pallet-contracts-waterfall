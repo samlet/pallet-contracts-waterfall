{
 "cells": [
  {
   "cell_type": "code",
   "execution_count": 1,
   "metadata": {
    "ExecuteTime": {
     "end_time": "2020-08-28T18:20:55.600000Z",
     "start_time": "2020-08-28T18:20:55.599Z"
    }
   },
   "outputs": [],
   "source": [
    "import { ApiPromise, SubmittableResult, WsProvider } from \"@polkadot/api\";\n",
    "import testKeyring from \"@polkadot/keyring/testing\";\n",
    "import { randomAsU8a } from \"@polkadot/util-crypto\";\n",
    "import { KeyringPair } from \"@polkadot/keyring/types\";\n",
    "import { Address } from \"@polkadot/types/interfaces\";\n",
    "import { Abi } from '@polkadot/api-contract';\n",
    "import BN from \"bn.js\";\n",
    "\n",
    "import { CHARLIE as CHARLIE_ADDRESS, DOT, CREATION_FEE, WSURL } from \"./tests/consts\";\n",
    "import {\n",
    "  callContract,\n",
    "  instantiate,\n",
    "  getContractStorage,\n",
    "  putCode,\n",
    "  rpcContract,\n",
    "} from \"./tests/utils\";\n",
    "\n",
    "// This is a test account that is going to be created and funded before each test.\n",
    "const keyring = testKeyring({ type: \"sr25519\" });\n",
    "const CHARLIE = keyring.getPair(CHARLIE_ADDRESS);\n",
    "const randomSeed = randomAsU8a(32);\n",
    "let contractCreator: KeyringPair;\n",
    "let api: ApiPromise;"
   ]
  },
  {
   "cell_type": "code",
   "execution_count": 2,
   "metadata": {
    "ExecuteTime": {
     "end_time": "2020-08-28T18:21:01.572000Z",
     "start_time": "2020-08-28T18:21:01.570Z"
    }
   },
   "outputs": [
    {
     "name": "stderr",
     "output_type": "stream",
     "text": [
      "Unknown types found, no types for Releases\n"
     ]
    },
    {
     "name": "stdout",
     "output_type": "stream",
     "text": [
      "Promise { \u001b[36m<pending>\u001b[39m }\n",
      "New test account has been created.\n"
     ]
    }
   ],
   "source": [
    "api = await ApiPromise.create({ provider: new WsProvider(WSURL) });\n",
    "contractCreator = keyring.addFromSeed(randomSeed);\n",
    "\n",
    "api.tx.balances\n",
    "  .transfer(contractCreator.address, CREATION_FEE.muln(5))\n",
    "  .signAndSend(CHARLIE, (result: SubmittableResult): void => {\n",
    "    if (\n",
    "      result.status.isInBlock &&\n",
    "      result.findRecord(\"system\", \"ExtrinsicSuccess\")\n",
    "    ) {\n",
    "      console.log(\"New test account has been created.\");\n",
    "      // done();\n",
    "    }\n",
    "  });"
   ]
  },
  {
   "cell_type": "code",
   "execution_count": 3,
   "metadata": {
    "ExecuteTime": {
     "end_time": "2020-08-28T18:21:10.203000Z",
     "start_time": "2020-08-28T18:21:10.201Z"
    }
   },
   "outputs": [],
   "source": [
    "const metadata = require(\"./contracts/solidity/flipper/flipper.json\");\n",
    "const abi = new Abi(api.registry, metadata);\n",
    "\n",
    "const STORAGE_KEY = (new Uint8Array(32)).fill(0);\n",
    "// Deploy contract code on chain and retrieve the code hash\n",
    "const codeHash = await putCode(\n",
    "  api,\n",
    "  contractCreator,\n",
    "  \"../contracts/solidity/flipper/flipper.wasm\"\n",
    ");"
   ]
  },
  {
   "cell_type": "code",
   "execution_count": 10,
   "metadata": {
    "ExecuteTime": {
     "end_time": "2020-08-22T20:11:29.880000Z",
     "start_time": "2020-08-22T20:11:29.878Z"
    }
   },
   "outputs": [
    {
     "name": "stdout",
     "output_type": "stream",
     "text": [
      "\u001b[33mfalse\u001b[39m\n"
     ]
    }
   ],
   "source": [
    "codeHash==undefined"
   ]
  },
  {
   "cell_type": "code",
   "execution_count": 4,
   "metadata": {
    "ExecuteTime": {
     "end_time": "2020-08-28T18:21:19.355000Z",
     "start_time": "2020-08-28T18:21:19.353Z"
    }
   },
   "outputs": [
    {
     "name": "stdout",
     "output_type": "stream",
     "text": [
      "Type [Uint8Array] [\n",
      "  \u001b[33m36\u001b[39m,\n",
      "  \u001b[33m253\u001b[39m,\n",
      "  \u001b[33m100\u001b[39m,\n",
      "  \u001b[33m148\u001b[39m,\n",
      "  \u001b[33m30\u001b[39m,\n",
      "  \u001b[33m183\u001b[39m,\n",
      "  \u001b[33m21\u001b[39m,\n",
      "  \u001b[33m11\u001b[39m,\n",
      "  \u001b[33m126\u001b[39m,\n",
      "  \u001b[33m144\u001b[39m,\n",
      "  \u001b[33m223\u001b[39m,\n",
      "  \u001b[33m151\u001b[39m,\n",
      "  \u001b[33m125\u001b[39m,\n",
      "  \u001b[33m240\u001b[39m,\n",
      "  \u001b[33m136\u001b[39m,\n",
      "  \u001b[33m183\u001b[39m,\n",
      "  \u001b[33m53\u001b[39m,\n",
      "  \u001b[33m155\u001b[39m,\n",
      "  \u001b[33m231\u001b[39m,\n",
      "  \u001b[33m214\u001b[39m,\n",
      "  \u001b[33m222\u001b[39m,\n",
      "  \u001b[33m33\u001b[39m,\n",
      "  \u001b[33m181\u001b[39m,\n",
      "  \u001b[33m193\u001b[39m,\n",
      "  \u001b[33m161\u001b[39m,\n",
      "  \u001b[33m138\u001b[39m,\n",
      "  \u001b[33m67\u001b[39m,\n",
      "  \u001b[33m236\u001b[39m,\n",
      "  \u001b[33m71\u001b[39m,\n",
      "  \u001b[33m220\u001b[39m,\n",
      "  \u001b[33m110\u001b[39m,\n",
      "  \u001b[33m193\u001b[39m,\n",
      "  registry: TypeRegistry {} ]\n"
     ]
    }
   ],
   "source": [
    "const address: Address = await instantiate(\n",
    "      api,\n",
    "      contractCreator,\n",
    "      codeHash,\n",
    "      abi.constructors[0](1),\n",
    "      CREATION_FEE\n",
    "    );\n",
    "address"
   ]
  },
  {
   "cell_type": "code",
   "execution_count": 5,
   "metadata": {
    "ExecuteTime": {
     "end_time": "2020-08-28T18:21:24.788000Z",
     "start_time": "2020-08-28T18:21:24.786Z"
    }
   },
   "outputs": [
    {
     "name": "stdout",
     "output_type": "stream",
     "text": [
      "0x3a6368696c645f73746f726167653a64656661756c743afea4179dae130ba991c4421b75d600aff46237df8ee52b7ec51624482172d009\n",
      "Type [Uint8Array] [ \u001b[33m1\u001b[39m, registry: TypeRegistry {} ]\n",
      "Type [Uint8Array] [ \u001b[33m1\u001b[39m, registry: TypeRegistry {} ]\n"
     ]
    }
   ],
   "source": [
    "const initialValue: Uint8Array = await getContractStorage(\n",
    "      api,\n",
    "      address,\n",
    "      STORAGE_KEY\n",
    "    );\n",
    "initialValue"
   ]
  },
  {
   "cell_type": "code",
   "execution_count": 6,
   "metadata": {
    "ExecuteTime": {
     "end_time": "2020-08-28T18:21:28.400000Z",
     "start_time": "2020-08-28T18:21:28.399Z"
    }
   },
   "outputs": [
    {
     "name": "stdout",
     "output_type": "stream",
     "text": [
      "0x01\n"
     ]
    }
   ],
   "source": [
    "initialValue.toString()"
   ]
  },
  {
   "cell_type": "code",
   "execution_count": 7,
   "metadata": {
    "ExecuteTime": {
     "end_time": "2020-08-28T18:21:31.540000Z",
     "start_time": "2020-08-28T18:21:31.539Z"
    }
   },
   "outputs": [],
   "source": [
    "await callContract(api, contractCreator, address, abi.messages.flip());"
   ]
  },
  {
   "cell_type": "code",
   "execution_count": 8,
   "metadata": {
    "ExecuteTime": {
     "end_time": "2020-08-28T18:21:35.226000Z",
     "start_time": "2020-08-28T18:21:35.224Z"
    }
   },
   "outputs": [
    {
     "name": "stdout",
     "output_type": "stream",
     "text": [
      "0x3a6368696c645f73746f726167653a64656661756c743afea4179dae130ba991c4421b75d600aff46237df8ee52b7ec51624482172d009\n",
      "Type [Uint8Array] [ \u001b[33m0\u001b[39m, registry: TypeRegistry {} ]\n",
      "0x00\n"
     ]
    }
   ],
   "source": [
    "const newValue = await getContractStorage(api, address, STORAGE_KEY);\n",
    "newValue.toString()"
   ]
  },
  {
   "cell_type": "code",
   "execution_count": 9,
   "metadata": {
    "ExecuteTime": {
     "end_time": "2020-08-28T18:21:40.626000Z",
     "start_time": "2020-08-28T18:21:40.625Z"
    }
   },
   "outputs": [
    {
     "name": "stdout",
     "output_type": "stream",
     "text": [
      "0x00\n"
     ]
    }
   ],
   "source": [
    "let res = await rpcContract(api, address, abi.messages.get());\n",
    "res.toString()"
   ]
  },
  {
   "cell_type": "code",
   "execution_count": 10,
   "metadata": {
    "ExecuteTime": {
     "end_time": "2020-08-28T18:21:42.533000Z",
     "start_time": "2020-08-28T18:21:42.531Z"
    }
   },
   "outputs": [
    {
     "name": "stdout",
     "output_type": "stream",
     "text": [
      "0x3a6368696c645f73746f726167653a64656661756c743afea4179dae130ba991c4421b75d600aff46237df8ee52b7ec51624482172d009\n",
      "Type [Uint8Array] [ \u001b[33m1\u001b[39m, registry: TypeRegistry {} ]\n",
      "0x01\n"
     ]
    }
   ],
   "source": [
    "await callContract(api, contractCreator, address, abi.messages.flip());\n",
    "const flipBack = await getContractStorage(api, address, STORAGE_KEY);\n",
    "flipBack.toString()"
   ]
  },
  {
   "cell_type": "code",
   "execution_count": 11,
   "metadata": {
    "ExecuteTime": {
     "end_time": "2020-08-28T18:21:47.400000Z",
     "start_time": "2020-08-28T18:21:47.398Z"
    }
   },
   "outputs": [
    {
     "name": "stdout",
     "output_type": "stream",
     "text": [
      "0x01\n"
     ]
    }
   ],
   "source": [
    "res = await rpcContract(api, address, abi.messages.get());\n",
    "res.toString()"
   ]
  }
 ],
 "metadata": {
  "kernelspec": {
   "display_name": "TypeScript",
   "language": "typescript",
   "name": "tslab"
  },
  "language_info": {
   "codemirror_mode": {
    "mode": "typescript",
    "name": "javascript",
    "typescript": true
   },
   "file_extension": ".ts",
   "mimetype": "text/typescript",
   "name": "typescript",
   "version": "3.7.2"
  },
  "varInspector": {
   "cols": {
    "lenName": 16,
    "lenType": 16,
    "lenVar": 40
   },
   "kernels_config": {
    "python": {
     "delete_cmd_postfix": "",
     "delete_cmd_prefix": "del ",
     "library": "var_list.py",
     "varRefreshCmd": "print(var_dic_list())"
    },
    "r": {
     "delete_cmd_postfix": ") ",
     "delete_cmd_prefix": "rm(",
     "library": "var_list.r",
     "varRefreshCmd": "cat(var_dic_list()) "
    }
   },
   "types_to_exclude": [
    "module",
    "function",
    "builtin_function_or_method",
    "instance",
    "_Feature"
   ],
   "window_display": false
  }
 },
 "nbformat": 4,
 "nbformat_minor": 4
}
