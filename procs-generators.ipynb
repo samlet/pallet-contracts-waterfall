{
 "cells": [
  {
   "cell_type": "code",
   "execution_count": 1,
   "metadata": {
    "ExecuteTime": {
     "end_time": "2020-08-28T19:04:15.228000Z",
     "start_time": "2020-08-28T19:04:15.227Z"
    }
   },
   "outputs": [
    {
     "name": "stdout",
     "output_type": "stream",
     "text": [
      "\u001b[33m1\u001b[39m\n",
      "string\n",
      "\u001b[33mfalse\u001b[39m\n"
     ]
    }
   ],
   "source": [
    "let someArray = [1, \"string\", false];\n",
    "\n",
    "for (let entry of someArray) {\n",
    "    console.log(entry); // 1, \"string\", false\n",
    "}"
   ]
  },
  {
   "cell_type": "code",
   "execution_count": 2,
   "metadata": {
    "ExecuteTime": {
     "end_time": "2020-08-28T19:04:44.090000Z",
     "start_time": "2020-08-28T19:04:44.088Z"
    }
   },
   "outputs": [
    {
     "name": "stdout",
     "output_type": "stream",
     "text": [
      "0\n",
      "1\n",
      "2\n",
      "\u001b[33m4\u001b[39m\n",
      "\u001b[33m5\u001b[39m\n",
      "\u001b[33m6\u001b[39m\n"
     ]
    }
   ],
   "source": [
    "let list = [4, 5, 6];\n",
    "\n",
    "for (let i in list) {\n",
    "    console.log(i); // \"0\", \"1\", \"2\",\n",
    "}\n",
    "\n",
    "for (let i of list) {\n",
    "    console.log(i); // \"4\", \"5\", \"6\"\n",
    "}"
   ]
  },
  {
   "cell_type": "code",
   "execution_count": 3,
   "metadata": {
    "ExecuteTime": {
     "end_time": "2020-08-28T19:05:12.776000Z",
     "start_time": "2020-08-28T19:05:12.774Z"
    }
   },
   "outputs": [
    {
     "name": "stdout",
     "output_type": "stream",
     "text": [
      "species\n",
      "Cat\n",
      "Dog\n",
      "Hamster\n"
     ]
    }
   ],
   "source": [
    "// 内置对象Map和Set已经实现了Symbol.iterator方法，让我们可以访问它们保存的值。\n",
    "\n",
    "let pets = new Set([\"Cat\", \"Dog\", \"Hamster\"]);\n",
    "pets[\"species\"] = \"mammals\";\n",
    "\n",
    "for (let pet in pets) {\n",
    "    console.log(pet); // \"species\"\n",
    "}\n",
    "\n",
    "for (let pet of pets) {\n",
    "    console.log(pet); // \"Cat\", \"Dog\", \"Hamster\"\n",
    "}"
   ]
  },
  {
   "cell_type": "markdown",
   "metadata": {},
   "source": [
    "⊕ [【译】TypeScript 中带生成器的惰性管道 - 掘金](https://juejin.im/post/6844904144889708558)\n"
   ]
  },
  {
   "cell_type": "code",
   "execution_count": 5,
   "metadata": {
    "ExecuteTime": {
     "end_time": "2020-08-28T19:13:06.658000Z",
     "start_time": "2020-08-28T19:13:06.657Z"
    }
   },
   "outputs": [
    {
     "name": "stdout",
     "output_type": "stream",
     "text": [
      "\u001b[33m6\u001b[39m\n"
     ]
    }
   ],
   "source": [
    "const x = [1,2,3,4,5]\n",
    "  .map(x => x * 2)\n",
    "  .filter(x => x > 5)\n",
    "  [0]\n",
    "x"
   ]
  }
 ],
 "metadata": {
  "kernelspec": {
   "display_name": "TypeScript",
   "language": "typescript",
   "name": "tslab"
  },
  "language_info": {
   "codemirror_mode": {
    "mode": "typescript",
    "name": "javascript",
    "typescript": true
   },
   "file_extension": ".ts",
   "mimetype": "text/typescript",
   "name": "typescript",
   "version": "3.7.2"
  },
  "varInspector": {
   "cols": {
    "lenName": 16,
    "lenType": 16,
    "lenVar": 40
   },
   "kernels_config": {
    "python": {
     "delete_cmd_postfix": "",
     "delete_cmd_prefix": "del ",
     "library": "var_list.py",
     "varRefreshCmd": "print(var_dic_list())"
    },
    "r": {
     "delete_cmd_postfix": ") ",
     "delete_cmd_prefix": "rm(",
     "library": "var_list.r",
     "varRefreshCmd": "cat(var_dic_list()) "
    }
   },
   "types_to_exclude": [
    "module",
    "function",
    "builtin_function_or_method",
    "instance",
    "_Feature"
   ],
   "window_display": false
  }
 },
 "nbformat": 4,
 "nbformat_minor": 4
}
